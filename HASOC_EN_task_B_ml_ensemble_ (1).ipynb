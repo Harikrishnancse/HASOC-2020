{
  "nbformat": 4,
  "nbformat_minor": 0,
  "metadata": {
    "colab": {
      "name": "HASOC_EN_task_B_ml_ensemble_.ipynb",
      "provenance": [],
      "collapsed_sections": []
    },
    "kernelspec": {
      "name": "python3",
      "display_name": "Python 3"
    },
    "accelerator": "GPU"
  },
  "cells": [
    {
      "cell_type": "code",
      "metadata": {
        "id": "4zXlekpJGYOH"
      },
      "source": [
        "import pandas as pd\n",
        "import re"
      ],
      "execution_count": 1,
      "outputs": []
    },
    {
      "cell_type": "code",
      "metadata": {
        "id": "1a4Mplic9pZO",
        "outputId": "2d133a8a-c523-4405-8c10-f50f39ec99dd",
        "colab": {
          "base_uri": "https://localhost:8080/",
          "height": 34
        }
      },
      "source": [
        "from google.colab import drive\n",
        "drive.mount('/content/drive')"
      ],
      "execution_count": 2,
      "outputs": [
        {
          "output_type": "stream",
          "text": [
            "Mounted at /content/drive\n"
          ],
          "name": "stdout"
        }
      ]
    },
    {
      "cell_type": "code",
      "metadata": {
        "id": "LbTK-QXmnAY4",
        "outputId": "31af370d-90e0-4f0c-d312-2708c9fd2204",
        "colab": {
          "base_uri": "https://localhost:8080/",
          "height": 204
        }
      },
      "source": [
        "train_data = pd.read_csv(\"/content/drive/My Drive/AA2-DATASETS/hasoc_2020_en_train_new.csv\", encoding= 'unicode_escape')\n",
        "train_data.head()"
      ],
      "execution_count": 3,
      "outputs": [
        {
          "output_type": "execute_result",
          "data": {
            "text/html": [
              "<div>\n",
              "<style scoped>\n",
              "    .dataframe tbody tr th:only-of-type {\n",
              "        vertical-align: middle;\n",
              "    }\n",
              "\n",
              "    .dataframe tbody tr th {\n",
              "        vertical-align: top;\n",
              "    }\n",
              "\n",
              "    .dataframe thead th {\n",
              "        text-align: right;\n",
              "    }\n",
              "</style>\n",
              "<table border=\"1\" class=\"dataframe\">\n",
              "  <thead>\n",
              "    <tr style=\"text-align: right;\">\n",
              "      <th></th>\n",
              "      <th>tweet_id</th>\n",
              "      <th>text</th>\n",
              "      <th>task1</th>\n",
              "      <th>task2</th>\n",
              "      <th>ID</th>\n",
              "    </tr>\n",
              "  </thead>\n",
              "  <tbody>\n",
              "    <tr>\n",
              "      <th>0</th>\n",
              "      <td>1.123757e+18</td>\n",
              "      <td>hate wen females hit ah nigga with tht bro ???...</td>\n",
              "      <td>HOF</td>\n",
              "      <td>PRFN</td>\n",
              "      <td>hasoc_2020_en_2574</td>\n",
              "    </tr>\n",
              "    <tr>\n",
              "      <th>1</th>\n",
              "      <td>1.123733e+18</td>\n",
              "      <td>RT @airjunebug: When you're from the Bay but y...</td>\n",
              "      <td>HOF</td>\n",
              "      <td>PRFN</td>\n",
              "      <td>hasoc_2020_en_3627</td>\n",
              "    </tr>\n",
              "    <tr>\n",
              "      <th>2</th>\n",
              "      <td>1.123734e+18</td>\n",
              "      <td>RT @DonaldJTrumpJr: Dear Democrats: The Americ...</td>\n",
              "      <td>NOT</td>\n",
              "      <td>NONE</td>\n",
              "      <td>hasoc_2020_en_3108</td>\n",
              "    </tr>\n",
              "    <tr>\n",
              "      <th>3</th>\n",
              "      <td>1.126951e+18</td>\n",
              "      <td>RT @SheLoveTimothy: He aint on drugs he just ...</td>\n",
              "      <td>HOF</td>\n",
              "      <td>PRFN</td>\n",
              "      <td>hasoc_2020_en_3986</td>\n",
              "    </tr>\n",
              "    <tr>\n",
              "      <th>4</th>\n",
              "      <td>1.126864e+18</td>\n",
              "      <td>RT @TavianJordan: Summer 19 Im coming for yo...</td>\n",
              "      <td>NOT</td>\n",
              "      <td>NONE</td>\n",
              "      <td>hasoc_2020_en_5152</td>\n",
              "    </tr>\n",
              "  </tbody>\n",
              "</table>\n",
              "</div>"
            ],
            "text/plain": [
              "       tweet_id  ...                  ID\n",
              "0  1.123757e+18  ...  hasoc_2020_en_2574\n",
              "1  1.123733e+18  ...  hasoc_2020_en_3627\n",
              "2  1.123734e+18  ...  hasoc_2020_en_3108\n",
              "3  1.126951e+18  ...  hasoc_2020_en_3986\n",
              "4  1.126864e+18  ...  hasoc_2020_en_5152\n",
              "\n",
              "[5 rows x 5 columns]"
            ]
          },
          "metadata": {
            "tags": []
          },
          "execution_count": 3
        }
      ]
    },
    {
      "cell_type": "code",
      "metadata": {
        "id": "SNndV8RTrMAB",
        "outputId": "e021f093-b847-49a5-a55e-1bb34c380c1b",
        "colab": {
          "base_uri": "https://localhost:8080/",
          "height": 204
        }
      },
      "source": [
        "test_data = pd.read_csv(\"/content/drive/My Drive/AA2-DATASETS/english_test.csv\", encoding= 'unicode_escape')\n",
        "test_data.head()"
      ],
      "execution_count": 4,
      "outputs": [
        {
          "output_type": "execute_result",
          "data": {
            "text/html": [
              "<div>\n",
              "<style scoped>\n",
              "    .dataframe tbody tr th:only-of-type {\n",
              "        vertical-align: middle;\n",
              "    }\n",
              "\n",
              "    .dataframe tbody tr th {\n",
              "        vertical-align: top;\n",
              "    }\n",
              "\n",
              "    .dataframe thead th {\n",
              "        text-align: right;\n",
              "    }\n",
              "</style>\n",
              "<table border=\"1\" class=\"dataframe\">\n",
              "  <thead>\n",
              "    <tr style=\"text-align: right;\">\n",
              "      <th></th>\n",
              "      <th>tweet_id</th>\n",
              "      <th>text</th>\n",
              "      <th>task1</th>\n",
              "      <th>task2</th>\n",
              "      <th>ID</th>\n",
              "    </tr>\n",
              "  </thead>\n",
              "  <tbody>\n",
              "    <tr>\n",
              "      <th>0</th>\n",
              "      <td>1130081762154090497</td>\n",
              "      <td>RT @delmiyaa: Samini resetting the show and mo...</td>\n",
              "      <td>NOT</td>\n",
              "      <td>NONE</td>\n",
              "      <td>hasoc_2020_en_2713</td>\n",
              "    </tr>\n",
              "    <tr>\n",
              "      <th>1</th>\n",
              "      <td>1130048316807491584</td>\n",
              "      <td>@Swxnsea how do you know that heâs left?</td>\n",
              "      <td>HOF</td>\n",
              "      <td>NONE</td>\n",
              "      <td>hasoc_2020_en_3874</td>\n",
              "    </tr>\n",
              "    <tr>\n",
              "      <th>2</th>\n",
              "      <td>1123657766143504386</td>\n",
              "      <td>Tried to get Divock Origi on a free seeing as ...</td>\n",
              "      <td>NOT</td>\n",
              "      <td>NONE</td>\n",
              "      <td>hasoc_2020_en_281</td>\n",
              "    </tr>\n",
              "    <tr>\n",
              "      <th>3</th>\n",
              "      <td>1126782963042013186</td>\n",
              "      <td>RT @nutclusteruwu: that....is yalls stupid whi...</td>\n",
              "      <td>HOF</td>\n",
              "      <td>PRFN</td>\n",
              "      <td>hasoc_2020_en_2026</td>\n",
              "    </tr>\n",
              "    <tr>\n",
              "      <th>4</th>\n",
              "      <td>1130159113529434113</td>\n",
              "      <td>&amp;amp; IT DID. But a bitch got big girls things...</td>\n",
              "      <td>HOF</td>\n",
              "      <td>PRFN</td>\n",
              "      <td>hasoc_2020_en_4023</td>\n",
              "    </tr>\n",
              "  </tbody>\n",
              "</table>\n",
              "</div>"
            ],
            "text/plain": [
              "              tweet_id  ...                  ID\n",
              "0  1130081762154090497  ...  hasoc_2020_en_2713\n",
              "1  1130048316807491584  ...  hasoc_2020_en_3874\n",
              "2  1123657766143504386  ...   hasoc_2020_en_281\n",
              "3  1126782963042013186  ...  hasoc_2020_en_2026\n",
              "4  1130159113529434113  ...  hasoc_2020_en_4023\n",
              "\n",
              "[5 rows x 5 columns]"
            ]
          },
          "metadata": {
            "tags": []
          },
          "execution_count": 4
        }
      ]
    },
    {
      "cell_type": "code",
      "metadata": {
        "id": "EuF54SYhPect"
      },
      "source": [
        "def text_to_wordlist(text, remove_stopwords=False, stem_words=False):\n",
        "    # Clean the text, with the option to remove stopwords and to stem words.\n",
        "    \n",
        "    # Convert words to lower case and split them\n",
        "    text = text.lower().split()\n",
        "\n",
        "    # Optionally, remove stop words\n",
        "    if remove_stopwords:\n",
        "        stops = set(stopwords.words(\"english\"))\n",
        "        text = [w for w in text if not w in stops]\n",
        "    \n",
        "    text = \" \".join(text)\n",
        "\n",
        "    # Clean the text\n",
        "    text = re.sub(r\"[^A-Za-z0-9^,!.\\/'+-=]\", \" \", text)\n",
        "    text = re.sub(r\"what's\", \"what is \", text)\n",
        "    text = re.sub(r\"\\'s\", \" \", text)\n",
        "    text = re.sub(r\"\\'ve\", \" have \", text)\n",
        "    text = re.sub(r\"can't\", \"cannot \", text)\n",
        "    text = re.sub(r\"n't\", \" not \", text)\n",
        "    text = re.sub(r\"i'm\", \"i am \", text)\n",
        "    text = re.sub(r\"\\'re\", \" are \", text)\n",
        "    text = re.sub(r\"\\'d\", \" would \", text)\n",
        "    text = re.sub(r\"\\'ll\", \" will \", text)\n",
        "    text = re.sub(r\",\", \" \", text)\n",
        "    text = re.sub(r\"\\.\", \" \", text)\n",
        "    text = re.sub(r\"!\", \" ! \", text)\n",
        "    text = re.sub(r\"\\/\", \" \", text)\n",
        "    text = re.sub(r\"\\^\", \" ^ \", text)\n",
        "    text = re.sub(r\"\\+\", \" + \", text)\n",
        "    text = re.sub(r\"\\-\", \" - \", text)\n",
        "    text = re.sub(r\"\\=\", \" = \", text)\n",
        "    text = re.sub(r\"'\", \" \", text)\n",
        "    text = re.sub(r\"(\\d+)(k)\", r\"\\g<1>000\", text)\n",
        "    text = re.sub(r\":\", \" : \", text)\n",
        "    text = re.sub(r\" e g \", \" eg \", text)\n",
        "    text = re.sub(r\" b g \", \" bg \", text)\n",
        "    text = re.sub(r\" u s \", \" american \", text)\n",
        "    text = re.sub(r\"\\0s\", \"0\", text)\n",
        "    text = re.sub(r\" 9 11 \", \"911\", text)\n",
        "    text = re.sub(r\"e - mail\", \"email\", text)\n",
        "    text = re.sub(r\"j k\", \"jk\", text)\n",
        "    text = re.sub(r\"\\s{2,}\", \" \", text)\n",
        "    \n",
        "    # Optionally, shorten words to their stems\n",
        "    if stem_words:\n",
        "        text = text.split()\n",
        "        stemmer = SnowballStemmer('english')\n",
        "        stemmed_words = [stemmer.stem(word) for word in text]\n",
        "        text = \" \".join(stemmed_words)\n",
        "    \n",
        "    # remove consecutive letters to single letter at end\n",
        "    text = re.sub(r'(.)\\1+$', r'\\1', text)\n",
        "    \n",
        "    # Return a list of words\n",
        "    return(text)\n"
      ],
      "execution_count": 5,
      "outputs": []
    },
    {
      "cell_type": "code",
      "metadata": {
        "id": "7fHY5srbPzNa",
        "outputId": "ac6a9a67-c03e-4271-ab2c-da1ab5f14133",
        "colab": {
          "base_uri": "https://localhost:8080/",
          "height": 204
        }
      },
      "source": [
        "train_data['text'] = train_data['text'].apply((lambda x: re.sub('RT ','',x)))\n",
        "cleanedText = []\n",
        "for text in train_data[\"text\"].values:\n",
        "    text = text+\" \"\n",
        "    text = re.sub(r'https?:\\/\\/.*[\\r\\n]*', ' ', text, flags=re.MULTILINE)\n",
        "    text = re.sub(r'(@){1}.+?( ){1}', ' ', text, flags=re.MULTILINE)\n",
        "    text = re.sub(r'(#){1}.+?( ){1}', ' ', text, flags=re.MULTILINE)\n",
        "    cleanedText.append(text_to_wordlist(text))\n",
        "train_data['text'] = cleanedText\n",
        "\n",
        "train_data.head()"
      ],
      "execution_count": 6,
      "outputs": [
        {
          "output_type": "execute_result",
          "data": {
            "text/html": [
              "<div>\n",
              "<style scoped>\n",
              "    .dataframe tbody tr th:only-of-type {\n",
              "        vertical-align: middle;\n",
              "    }\n",
              "\n",
              "    .dataframe tbody tr th {\n",
              "        vertical-align: top;\n",
              "    }\n",
              "\n",
              "    .dataframe thead th {\n",
              "        text-align: right;\n",
              "    }\n",
              "</style>\n",
              "<table border=\"1\" class=\"dataframe\">\n",
              "  <thead>\n",
              "    <tr style=\"text-align: right;\">\n",
              "      <th></th>\n",
              "      <th>tweet_id</th>\n",
              "      <th>text</th>\n",
              "      <th>task1</th>\n",
              "      <th>task2</th>\n",
              "      <th>ID</th>\n",
              "    </tr>\n",
              "  </thead>\n",
              "  <tbody>\n",
              "    <tr>\n",
              "      <th>0</th>\n",
              "      <td>1.123757e+18</td>\n",
              "      <td>hate wen females hit ah nigga with tht bro i m...</td>\n",
              "      <td>HOF</td>\n",
              "      <td>PRFN</td>\n",
              "      <td>hasoc_2020_en_2574</td>\n",
              "    </tr>\n",
              "    <tr>\n",
              "      <th>1</th>\n",
              "      <td>1.123733e+18</td>\n",
              "      <td>when you are from the bay but you are really a...</td>\n",
              "      <td>HOF</td>\n",
              "      <td>PRFN</td>\n",
              "      <td>hasoc_2020_en_3627</td>\n",
              "    </tr>\n",
              "    <tr>\n",
              "      <th>2</th>\n",
              "      <td>1.123734e+18</td>\n",
              "      <td>dear democrats : the american people aren t st...</td>\n",
              "      <td>NOT</td>\n",
              "      <td>NONE</td>\n",
              "      <td>hasoc_2020_en_3108</td>\n",
              "    </tr>\n",
              "    <tr>\n",
              "      <th>3</th>\n",
              "      <td>1.126951e+18</td>\n",
              "      <td>he ain t on drugs he just bored i be doing the...</td>\n",
              "      <td>HOF</td>\n",
              "      <td>PRFN</td>\n",
              "      <td>hasoc_2020_en_3986</td>\n",
              "    </tr>\n",
              "    <tr>\n",
              "      <th>4</th>\n",
              "      <td>1.126864e+18</td>\n",
              "      <td>summer 19 i m coming for you ! no boring shit ...</td>\n",
              "      <td>NOT</td>\n",
              "      <td>NONE</td>\n",
              "      <td>hasoc_2020_en_5152</td>\n",
              "    </tr>\n",
              "  </tbody>\n",
              "</table>\n",
              "</div>"
            ],
            "text/plain": [
              "       tweet_id  ...                  ID\n",
              "0  1.123757e+18  ...  hasoc_2020_en_2574\n",
              "1  1.123733e+18  ...  hasoc_2020_en_3627\n",
              "2  1.123734e+18  ...  hasoc_2020_en_3108\n",
              "3  1.126951e+18  ...  hasoc_2020_en_3986\n",
              "4  1.126864e+18  ...  hasoc_2020_en_5152\n",
              "\n",
              "[5 rows x 5 columns]"
            ]
          },
          "metadata": {
            "tags": []
          },
          "execution_count": 6
        }
      ]
    },
    {
      "cell_type": "code",
      "metadata": {
        "id": "eVIT72DarrTq",
        "outputId": "7ae7b947-4be5-4a88-f172-c96cfcf5092f",
        "colab": {
          "base_uri": "https://localhost:8080/",
          "height": 204
        }
      },
      "source": [
        "test_data['text'] = test_data['text'].apply((lambda x: re.sub('RT ','',x)))\n",
        "cleanedText = []\n",
        "for text in test_data[\"text\"].values:\n",
        "    text = text+\" \"\n",
        "    text = re.sub(r'https?:\\/\\/.*[\\r\\n]*', ' ', text, flags=re.MULTILINE)\n",
        "    text = re.sub(r'(@){1}.+?( ){1}', ' ', text, flags=re.MULTILINE)\n",
        "    text = re.sub(r'(#){1}.+?( ){1}', ' ', text, flags=re.MULTILINE)\n",
        "    cleanedText.append(text_to_wordlist(text))\n",
        "test_data['text'] = cleanedText\n",
        "\n",
        "test_data.head()"
      ],
      "execution_count": 7,
      "outputs": [
        {
          "output_type": "execute_result",
          "data": {
            "text/html": [
              "<div>\n",
              "<style scoped>\n",
              "    .dataframe tbody tr th:only-of-type {\n",
              "        vertical-align: middle;\n",
              "    }\n",
              "\n",
              "    .dataframe tbody tr th {\n",
              "        vertical-align: top;\n",
              "    }\n",
              "\n",
              "    .dataframe thead th {\n",
              "        text-align: right;\n",
              "    }\n",
              "</style>\n",
              "<table border=\"1\" class=\"dataframe\">\n",
              "  <thead>\n",
              "    <tr style=\"text-align: right;\">\n",
              "      <th></th>\n",
              "      <th>tweet_id</th>\n",
              "      <th>text</th>\n",
              "      <th>task1</th>\n",
              "      <th>task2</th>\n",
              "      <th>ID</th>\n",
              "    </tr>\n",
              "  </thead>\n",
              "  <tbody>\n",
              "    <tr>\n",
              "      <th>0</th>\n",
              "      <td>1130081762154090497</td>\n",
              "      <td>samini resetting the show and moving things al...</td>\n",
              "      <td>NOT</td>\n",
              "      <td>NONE</td>\n",
              "      <td>hasoc_2020_en_2713</td>\n",
              "    </tr>\n",
              "    <tr>\n",
              "      <th>1</th>\n",
              "      <td>1130048316807491584</td>\n",
              "      <td>how do you know that he s left</td>\n",
              "      <td>HOF</td>\n",
              "      <td>NONE</td>\n",
              "      <td>hasoc_2020_en_3874</td>\n",
              "    </tr>\n",
              "    <tr>\n",
              "      <th>2</th>\n",
              "      <td>1123657766143504386</td>\n",
              "      <td>tried to get divock origi on a free seeing as ...</td>\n",
              "      <td>NOT</td>\n",
              "      <td>NONE</td>\n",
              "      <td>hasoc_2020_en_281</td>\n",
              "    </tr>\n",
              "    <tr>\n",
              "      <th>3</th>\n",
              "      <td>1126782963042013186</td>\n",
              "      <td>that is yalls stupid white ass reactions meeti...</td>\n",
              "      <td>HOF</td>\n",
              "      <td>PRFN</td>\n",
              "      <td>hasoc_2020_en_2026</td>\n",
              "    </tr>\n",
              "    <tr>\n",
              "      <th>4</th>\n",
              "      <td>1130159113529434113</td>\n",
              "      <td>amp; it did but a bitch got big girls things ...</td>\n",
              "      <td>HOF</td>\n",
              "      <td>PRFN</td>\n",
              "      <td>hasoc_2020_en_4023</td>\n",
              "    </tr>\n",
              "  </tbody>\n",
              "</table>\n",
              "</div>"
            ],
            "text/plain": [
              "              tweet_id  ...                  ID\n",
              "0  1130081762154090497  ...  hasoc_2020_en_2713\n",
              "1  1130048316807491584  ...  hasoc_2020_en_3874\n",
              "2  1123657766143504386  ...   hasoc_2020_en_281\n",
              "3  1126782963042013186  ...  hasoc_2020_en_2026\n",
              "4  1130159113529434113  ...  hasoc_2020_en_4023\n",
              "\n",
              "[5 rows x 5 columns]"
            ]
          },
          "metadata": {
            "tags": []
          },
          "execution_count": 7
        }
      ]
    },
    {
      "cell_type": "code",
      "metadata": {
        "id": "v1EBMX1YswMA",
        "outputId": "dbfa6124-8f1a-46d6-8793-81ff0bb50793",
        "colab": {
          "base_uri": "https://localhost:8080/",
          "height": 204
        }
      },
      "source": [
        "data = pd.concat([train_data, test_data], ignore_index=True)\n",
        "data.head()"
      ],
      "execution_count": 8,
      "outputs": [
        {
          "output_type": "execute_result",
          "data": {
            "text/html": [
              "<div>\n",
              "<style scoped>\n",
              "    .dataframe tbody tr th:only-of-type {\n",
              "        vertical-align: middle;\n",
              "    }\n",
              "\n",
              "    .dataframe tbody tr th {\n",
              "        vertical-align: top;\n",
              "    }\n",
              "\n",
              "    .dataframe thead th {\n",
              "        text-align: right;\n",
              "    }\n",
              "</style>\n",
              "<table border=\"1\" class=\"dataframe\">\n",
              "  <thead>\n",
              "    <tr style=\"text-align: right;\">\n",
              "      <th></th>\n",
              "      <th>tweet_id</th>\n",
              "      <th>text</th>\n",
              "      <th>task1</th>\n",
              "      <th>task2</th>\n",
              "      <th>ID</th>\n",
              "    </tr>\n",
              "  </thead>\n",
              "  <tbody>\n",
              "    <tr>\n",
              "      <th>0</th>\n",
              "      <td>1.123757e+18</td>\n",
              "      <td>hate wen females hit ah nigga with tht bro i m...</td>\n",
              "      <td>HOF</td>\n",
              "      <td>PRFN</td>\n",
              "      <td>hasoc_2020_en_2574</td>\n",
              "    </tr>\n",
              "    <tr>\n",
              "      <th>1</th>\n",
              "      <td>1.123733e+18</td>\n",
              "      <td>when you are from the bay but you are really a...</td>\n",
              "      <td>HOF</td>\n",
              "      <td>PRFN</td>\n",
              "      <td>hasoc_2020_en_3627</td>\n",
              "    </tr>\n",
              "    <tr>\n",
              "      <th>2</th>\n",
              "      <td>1.123734e+18</td>\n",
              "      <td>dear democrats : the american people aren t st...</td>\n",
              "      <td>NOT</td>\n",
              "      <td>NONE</td>\n",
              "      <td>hasoc_2020_en_3108</td>\n",
              "    </tr>\n",
              "    <tr>\n",
              "      <th>3</th>\n",
              "      <td>1.126951e+18</td>\n",
              "      <td>he ain t on drugs he just bored i be doing the...</td>\n",
              "      <td>HOF</td>\n",
              "      <td>PRFN</td>\n",
              "      <td>hasoc_2020_en_3986</td>\n",
              "    </tr>\n",
              "    <tr>\n",
              "      <th>4</th>\n",
              "      <td>1.126864e+18</td>\n",
              "      <td>summer 19 i m coming for you ! no boring shit ...</td>\n",
              "      <td>NOT</td>\n",
              "      <td>NONE</td>\n",
              "      <td>hasoc_2020_en_5152</td>\n",
              "    </tr>\n",
              "  </tbody>\n",
              "</table>\n",
              "</div>"
            ],
            "text/plain": [
              "       tweet_id  ...                  ID\n",
              "0  1.123757e+18  ...  hasoc_2020_en_2574\n",
              "1  1.123733e+18  ...  hasoc_2020_en_3627\n",
              "2  1.123734e+18  ...  hasoc_2020_en_3108\n",
              "3  1.126951e+18  ...  hasoc_2020_en_3986\n",
              "4  1.126864e+18  ...  hasoc_2020_en_5152\n",
              "\n",
              "[5 rows x 5 columns]"
            ]
          },
          "metadata": {
            "tags": []
          },
          "execution_count": 8
        }
      ]
    },
    {
      "cell_type": "code",
      "metadata": {
        "id": "XbQLF1_9td3h",
        "outputId": "964eb673-4498-46ad-8074-124c36c07137",
        "colab": {
          "base_uri": "https://localhost:8080/",
          "height": 34
        }
      },
      "source": [
        "print( len(train_data) ,' ' , len(test_data) , ' ', len(data)) "
      ],
      "execution_count": 10,
      "outputs": [
        {
          "output_type": "stream",
          "text": [
            "3708   814   4522\n"
          ],
          "name": "stdout"
        }
      ]
    },
    {
      "cell_type": "code",
      "metadata": {
        "id": "KWV7OPHNLiA2"
      },
      "source": [
        "from sklearn.feature_extraction.text import TfidfVectorizer\n",
        "tfidfconverter = TfidfVectorizer(max_features=3000, min_df=5)\n",
        "X = tfidfconverter.fit_transform(data['text']).toarray()"
      ],
      "execution_count": 9,
      "outputs": []
    },
    {
      "cell_type": "code",
      "metadata": {
        "id": "BBMkqey-96Xi",
        "outputId": "102cdd19-5bed-4cea-e269-890314c0148c",
        "colab": {
          "base_uri": "https://localhost:8080/",
          "height": 34
        }
      },
      "source": [
        "X.shape"
      ],
      "execution_count": 12,
      "outputs": [
        {
          "output_type": "execute_result",
          "data": {
            "text/plain": [
              "(4522, 1280)"
            ]
          },
          "metadata": {
            "tags": []
          },
          "execution_count": 12
        }
      ]
    },
    {
      "cell_type": "code",
      "metadata": {
        "id": "Auzh4W0xIwYB"
      },
      "source": [
        "from sklearn.preprocessing import LabelEncoder\n",
        "le = LabelEncoder()\n",
        "Y = le.fit_transform(data['task2'])"
      ],
      "execution_count": 13,
      "outputs": []
    },
    {
      "cell_type": "code",
      "metadata": {
        "id": "iw1Z_Lb6uc4z"
      },
      "source": [
        "X_train = X[ : len(train_data)]\n",
        "Y_train = Y[ : len(train_data)]\n",
        "\n",
        "X_test = X[len(train_data) : ]\n",
        "Y_test = Y[len(train_data) : ]"
      ],
      "execution_count": 14,
      "outputs": []
    },
    {
      "cell_type": "code",
      "metadata": {
        "id": "QgKDa-7TIXTf",
        "outputId": "e081dbb4-47b0-4bc1-c07e-11cef5212577",
        "colab": {
          "base_uri": "https://localhost:8080/",
          "height": 34
        }
      },
      "source": [
        "Y"
      ],
      "execution_count": 15,
      "outputs": [
        {
          "output_type": "execute_result",
          "data": {
            "text/plain": [
              "array([3, 3, 1, ..., 1, 1, 1])"
            ]
          },
          "metadata": {
            "tags": []
          },
          "execution_count": 15
        }
      ]
    },
    {
      "cell_type": "code",
      "metadata": {
        "id": "VEslWWpvQ6I0",
        "outputId": "ec362719-8402-4305-efdb-5d96a23fdfa4",
        "colab": {
          "base_uri": "https://localhost:8080/",
          "height": 102
        }
      },
      "source": [
        "from sklearn.model_selection import RepeatedKFold \n",
        "from sklearn.naive_bayes import BernoulliNB\n",
        "from sklearn.metrics import classification_report , accuracy_score\n",
        "import pickle\n",
        "\n",
        "bnb = BernoulliNB()\n",
        "\n",
        "kf = RepeatedKFold(n_splits=10, n_repeats=10, random_state=None) \n",
        "\n",
        "bet_acc = 0.0\n",
        "\n",
        "for train_index, test_index in kf.split(X_train):\n",
        "      x_train, x_test = X_train[train_index], X_train[test_index] \n",
        "      y_train, y_test = Y_train[train_index], Y_train[test_index]\n",
        "\n",
        "      bnb.fit(x_train,y_train)\n",
        "      predictions = bnb.predict(x_test)\n",
        "\n",
        "      score = accuracy_score(y_test,predictions)\n",
        "\n",
        "      if  score > bet_acc :\n",
        "        print(score)\n",
        "        bet_acc = score\n",
        "        # save the model to disk\n",
        "        filename = 'finalized_nb_model1.sav'\n",
        "        pickle.dump(bnb, open(filename, 'wb'))\n"
      ],
      "execution_count": null,
      "outputs": [
        {
          "output_type": "stream",
          "text": [
            "0.7601078167115903\n",
            "0.7654986522911051\n",
            "0.7816711590296496\n",
            "0.7924528301886793\n",
            "0.8032345013477089\n"
          ],
          "name": "stdout"
        }
      ]
    },
    {
      "cell_type": "code",
      "metadata": {
        "id": "IdzhWH6LMVQf",
        "outputId": "6d6164c8-946e-4310-803c-70bef7582268",
        "colab": {
          "base_uri": "https://localhost:8080/",
          "height": 221
        }
      },
      "source": [
        "from sklearn.metrics import classification_report,accuracy_score\n",
        "import pickle\n",
        "loaded_model = pickle.load(open('/content/drive/My Drive/AA2-DATASETS/ML_weights/taskB/finalized_nb_model1.sav', 'rb'))\n",
        "print(\"Training acc : \", accuracy_score(Y_train , loaded_model.predict(X_train)))\n",
        "result = loaded_model.predict(X_test)\n",
        "print(classification_report(Y_test , result))"
      ],
      "execution_count": 16,
      "outputs": [
        {
          "output_type": "stream",
          "text": [
            "Training acc :  0.81957928802589\n",
            "              precision    recall  f1-score   support\n",
            "\n",
            "           0       0.33      0.12      0.18        25\n",
            "           1       0.85      0.86      0.85       414\n",
            "           2       0.43      0.15      0.22        82\n",
            "           3       0.70      0.86      0.77       293\n",
            "\n",
            "    accuracy                           0.76       814\n",
            "   macro avg       0.58      0.50      0.51       814\n",
            "weighted avg       0.74      0.76      0.74       814\n",
            "\n"
          ],
          "name": "stdout"
        }
      ]
    },
    {
      "cell_type": "code",
      "metadata": {
        "id": "Q2NwTre_RFP8",
        "outputId": "81c18ea2-2ec0-4d09-e30e-1819bb56ad8e",
        "colab": {
          "base_uri": "https://localhost:8080/",
          "height": 153
        }
      },
      "source": [
        "from sklearn.svm import LinearSVC\n",
        "sv = LinearSVC()\n",
        "\n",
        "kf = RepeatedKFold(n_splits=10, n_repeats=10, random_state=None) \n",
        "\n",
        "bet_acc = 0.0\n",
        "\n",
        "for train_index, test_index in kf.split(X_train):\n",
        "      x_train, x_test = X_train[train_index], X_train[test_index] \n",
        "      y_train, y_test = Y_train[train_index], Y_train[test_index]\n",
        "\n",
        "      sv.fit(x_train,y_train)\n",
        "      predictions = sv.predict(x_test)\n",
        "\n",
        "      score = accuracy_score(y_test,predictions)\n",
        "\n",
        "      if  score > bet_acc :\n",
        "        print(score)\n",
        "        bet_acc = score\n",
        "        # save the model to disk\n",
        "        filename = 'finalized_svm_model1.sav'\n",
        "        pickle.dump(sv, open(filename, 'wb'))\n"
      ],
      "execution_count": null,
      "outputs": [
        {
          "output_type": "stream",
          "text": [
            "0.784366576819407\n",
            "0.7897574123989218\n",
            "0.7978436657681941\n",
            "0.8032345013477089\n",
            "0.816711590296496\n",
            "0.8194070080862533\n",
            "0.8216216216216217\n",
            "0.8301886792452831\n"
          ],
          "name": "stdout"
        }
      ]
    },
    {
      "cell_type": "code",
      "metadata": {
        "id": "I5_PcMqBM0pL",
        "outputId": "9771b67a-266f-4226-ebc8-fc667bd76fdb",
        "colab": {
          "base_uri": "https://localhost:8080/",
          "height": 221
        }
      },
      "source": [
        "loaded_model = pickle.load(open('/content/drive/My Drive/AA2-DATASETS/ML_weights/taskB/finalized_svm_model1.sav', 'rb'))\n",
        "\n",
        "print(\"Training acc : \", accuracy_score(Y_train , loaded_model.predict(X_train)))\n",
        "\n",
        "result = loaded_model.predict(X_test)\n",
        "print(classification_report(Y_test , result))"
      ],
      "execution_count": 17,
      "outputs": [
        {
          "output_type": "stream",
          "text": [
            "Training acc :  0.8969795037756203\n",
            "              precision    recall  f1-score   support\n",
            "\n",
            "           0       0.33      0.08      0.13        25\n",
            "           1       0.81      0.93      0.87       414\n",
            "           2       0.43      0.15      0.22        82\n",
            "           3       0.79      0.82      0.81       293\n",
            "\n",
            "    accuracy                           0.79       814\n",
            "   macro avg       0.59      0.50      0.51       814\n",
            "weighted avg       0.75      0.79      0.76       814\n",
            "\n"
          ],
          "name": "stdout"
        }
      ]
    },
    {
      "cell_type": "code",
      "metadata": {
        "id": "xpGsvJB7XtRs",
        "outputId": "0901fab2-282a-4564-c23f-c86f8f8c9bff",
        "colab": {
          "base_uri": "https://localhost:8080/",
          "height": 102
        }
      },
      "source": [
        "from sklearn.tree import DecisionTreeClassifier\n",
        "from sklearn.model_selection import RepeatedKFold \n",
        "dt = DecisionTreeClassifier(criterion='entropy',splitter='best',class_weight={0:0.50 ,1:0.365 , 2:0.09 , 3:0.045})\n",
        "\n",
        "kf = RepeatedKFold(n_splits=10, n_repeats=10, random_state=None) \n",
        "\n",
        "bet_acc = 0.0\n",
        "\n",
        "for train_index, test_index in kf.split(X_train):\n",
        "      x_train, x_test = X_train[train_index], X_train[test_index] \n",
        "      y_train, y_test = Y_train[train_index], Y_train[test_index]\n",
        "\n",
        "      dt.fit(x_train,y_train)\n",
        "      predictions = dt.predict(x_test)\n",
        "\n",
        "      score = accuracy_score(y_test,predictions)\n",
        "\n",
        "      if  score > bet_acc :\n",
        "        print(score)\n",
        "        bet_acc = score\n",
        "        # save the model to disk\n",
        "        filename = '/content/drive/My Drive/AA2-DATASETS/ML_weights/taskB/finalized_dt_model1.sav'\n",
        "        pickle.dump(dt, open(filename, 'wb'))\n"
      ],
      "execution_count": 19,
      "outputs": [
        {
          "output_type": "stream",
          "text": [
            "0.7169811320754716\n",
            "0.7331536388140162\n",
            "0.7466307277628033\n",
            "0.7601078167115903\n",
            "0.7628032345013477\n"
          ],
          "name": "stdout"
        }
      ]
    },
    {
      "cell_type": "code",
      "metadata": {
        "id": "20dOM6V9NA1I",
        "outputId": "c98d6b3d-ebcb-44f5-8a29-a2c88c1ef852",
        "colab": {
          "base_uri": "https://localhost:8080/",
          "height": 221
        }
      },
      "source": [
        "loaded_model = pickle.load(open('/content/drive/My Drive/AA2-DATASETS/ML_weights/taskB/finalized_dt_model1.sav', 'rb'))\n",
        "\n",
        "print(\"Training acc : \", accuracy_score(Y_train , loaded_model.predict(X_train)))\n",
        "\n",
        "result = loaded_model.predict(X_test)\n",
        "print(classification_report(Y_test , result))"
      ],
      "execution_count": 20,
      "outputs": [
        {
          "output_type": "stream",
          "text": [
            "Training acc :  0.9714131607335491\n",
            "              precision    recall  f1-score   support\n",
            "\n",
            "           0       0.03      0.04      0.04        25\n",
            "           1       0.80      0.87      0.84       414\n",
            "           2       0.24      0.18      0.21        82\n",
            "           3       0.77      0.72      0.74       293\n",
            "\n",
            "    accuracy                           0.72       814\n",
            "   macro avg       0.46      0.45      0.46       814\n",
            "weighted avg       0.71      0.72      0.71       814\n",
            "\n"
          ],
          "name": "stdout"
        }
      ]
    },
    {
      "cell_type": "code",
      "metadata": {
        "id": "5hXNAKYE_ngK",
        "outputId": "29d1dfbb-4536-441a-81f2-b01d9148a509",
        "colab": {
          "base_uri": "https://localhost:8080/",
          "height": 51
        }
      },
      "source": [
        "print(loaded_model.get_depth())\n",
        "print(loaded_model.get_n_leaves())"
      ],
      "execution_count": 22,
      "outputs": [
        {
          "output_type": "stream",
          "text": [
            "161\n",
            "638\n"
          ],
          "name": "stdout"
        }
      ]
    },
    {
      "cell_type": "code",
      "metadata": {
        "id": "U_TxOFlkZZEp",
        "outputId": "aad8af4e-4d23-46ec-874a-7d8543505399",
        "colab": {
          "base_uri": "https://localhost:8080/",
          "height": 68
        }
      },
      "source": [
        "from sklearn.ensemble import RandomForestClassifier\n",
        "rf = RandomForestClassifier()\n",
        "\n",
        "kf = RepeatedKFold(n_splits=10, n_repeats=10, random_state=None) \n",
        "\n",
        "bet_acc = 0.0\n",
        "\n",
        "for train_index, test_index in kf.split(X_train):\n",
        "      x_train, x_test = X_train[train_index], X_train[test_index] \n",
        "      y_train, y_test = Y_train[train_index], Y_train[test_index]\n",
        "\n",
        "      rf.fit(x_train,y_train)\n",
        "      predictions = rf.predict(x_test)\n",
        "\n",
        "      score = accuracy_score(y_test,predictions)\n",
        "\n",
        "      if  score > bet_acc :\n",
        "        print(score)\n",
        "        bet_acc = score\n",
        "        # save the model to disk\n",
        "        filename = 'finalized_rf_model1.sav'\n",
        "        pickle.dump(rf, open(filename, 'wb'))"
      ],
      "execution_count": null,
      "outputs": [
        {
          "output_type": "stream",
          "text": [
            "0.8382749326145552\n",
            "0.8405405405405405\n",
            "0.8432432432432433\n"
          ],
          "name": "stdout"
        }
      ]
    },
    {
      "cell_type": "code",
      "metadata": {
        "id": "7m3xbY1TNGrL",
        "outputId": "d708b376-be03-49bd-dad4-da43f63320b0",
        "colab": {
          "base_uri": "https://localhost:8080/",
          "height": 275
        }
      },
      "source": [
        "loaded_model = pickle.load(open('/content/drive/My Drive/AA2-DATASETS/ML_weights/taskB/finalized_rf_model1.sav', 'rb'))\n",
        "print(\"Training acc : \", accuracy_score(Y_train , loaded_model.predict(X_train)))\n",
        "result = loaded_model.predict(X_test)\n",
        "print(classification_report(Y_test , result))"
      ],
      "execution_count": 23,
      "outputs": [
        {
          "output_type": "stream",
          "text": [
            "Training acc :  0.9813915857605178\n",
            "              precision    recall  f1-score   support\n",
            "\n",
            "           0       0.00      0.00      0.00        25\n",
            "           1       0.80      0.97      0.87       414\n",
            "           2       0.80      0.05      0.09        82\n",
            "           3       0.81      0.84      0.82       293\n",
            "\n",
            "    accuracy                           0.80       814\n",
            "   macro avg       0.60      0.46      0.45       814\n",
            "weighted avg       0.78      0.80      0.75       814\n",
            "\n"
          ],
          "name": "stdout"
        },
        {
          "output_type": "stream",
          "text": [
            "/usr/local/lib/python3.6/dist-packages/sklearn/metrics/_classification.py:1272: UndefinedMetricWarning: Precision and F-score are ill-defined and being set to 0.0 in labels with no predicted samples. Use `zero_division` parameter to control this behavior.\n",
            "  _warn_prf(average, modifier, msg_start, len(result))\n"
          ],
          "name": "stderr"
        }
      ]
    },
    {
      "cell_type": "code",
      "metadata": {
        "id": "rJ9yZEg5AEjs",
        "outputId": "eca9ff0a-6df4-46e8-8718-f65b01af4782",
        "colab": {
          "base_uri": "https://localhost:8080/",
          "height": 340
        }
      },
      "source": [
        "loaded_model.get_params(deep=True)"
      ],
      "execution_count": 24,
      "outputs": [
        {
          "output_type": "execute_result",
          "data": {
            "text/plain": [
              "{'bootstrap': True,\n",
              " 'ccp_alpha': 0.0,\n",
              " 'class_weight': None,\n",
              " 'criterion': 'gini',\n",
              " 'max_depth': None,\n",
              " 'max_features': 'auto',\n",
              " 'max_leaf_nodes': None,\n",
              " 'max_samples': None,\n",
              " 'min_impurity_decrease': 0.0,\n",
              " 'min_impurity_split': None,\n",
              " 'min_samples_leaf': 1,\n",
              " 'min_samples_split': 2,\n",
              " 'min_weight_fraction_leaf': 0.0,\n",
              " 'n_estimators': 100,\n",
              " 'n_jobs': None,\n",
              " 'oob_score': False,\n",
              " 'random_state': None,\n",
              " 'verbose': 0,\n",
              " 'warm_start': False}"
            ]
          },
          "metadata": {
            "tags": []
          },
          "execution_count": 24
        }
      ]
    },
    {
      "cell_type": "code",
      "metadata": {
        "id": "06ur4ciE2DKM"
      },
      "source": [
        "import pickle\n",
        "\n",
        "dt2= pickle.load(open('finalized_dt_model1.sav', 'rb'))\n",
        "nb2= pickle.load(open('finalized_nb_model1.sav', 'rb'))\n",
        "rf2= pickle.load(open('finalized_rf_model1.sav', 'rb'))\n",
        "svm2= pickle.load(open('finalized_svm_model1.sav', 'rb'))"
      ],
      "execution_count": null,
      "outputs": []
    },
    {
      "cell_type": "code",
      "metadata": {
        "id": "0mEmE8tP2guV"
      },
      "source": [
        "taskb_df = pd.DataFrame()"
      ],
      "execution_count": null,
      "outputs": []
    },
    {
      "cell_type": "code",
      "metadata": {
        "id": "INbt0hxJ2DKc",
        "outputId": "2a8a8f59-39d4-453f-8e4a-325bf4cf00c3",
        "colab": {
          "base_uri": "https://localhost:8080/",
          "height": 204
        }
      },
      "source": [
        "### decision tree\n",
        "pred = dt2.predict(X_test)\n",
        "taskb_df['DecisionTree'] = pred\n",
        "\n",
        "## naive bayes\n",
        "pred = nb2.predict(X_test)\n",
        "taskb_df['naiveBayes'] = pred\n",
        "## RF\n",
        "pred =rf2.predict(X_test)\n",
        "taskb_df['RandomForest'] = pred\n",
        "##SVM\n",
        "pred =svm2.predict(X_test)\n",
        "taskb_df['SVM'] = pred\n",
        "\n",
        "taskb_df.head()"
      ],
      "execution_count": null,
      "outputs": [
        {
          "output_type": "execute_result",
          "data": {
            "text/html": [
              "<div>\n",
              "<style scoped>\n",
              "    .dataframe tbody tr th:only-of-type {\n",
              "        vertical-align: middle;\n",
              "    }\n",
              "\n",
              "    .dataframe tbody tr th {\n",
              "        vertical-align: top;\n",
              "    }\n",
              "\n",
              "    .dataframe thead th {\n",
              "        text-align: right;\n",
              "    }\n",
              "</style>\n",
              "<table border=\"1\" class=\"dataframe\">\n",
              "  <thead>\n",
              "    <tr style=\"text-align: right;\">\n",
              "      <th></th>\n",
              "      <th>DecisionTree</th>\n",
              "      <th>naiveBayes</th>\n",
              "      <th>RandomForest</th>\n",
              "      <th>SVM</th>\n",
              "    </tr>\n",
              "  </thead>\n",
              "  <tbody>\n",
              "    <tr>\n",
              "      <th>0</th>\n",
              "      <td>1</td>\n",
              "      <td>1</td>\n",
              "      <td>1</td>\n",
              "      <td>1</td>\n",
              "    </tr>\n",
              "    <tr>\n",
              "      <th>1</th>\n",
              "      <td>1</td>\n",
              "      <td>1</td>\n",
              "      <td>1</td>\n",
              "      <td>1</td>\n",
              "    </tr>\n",
              "    <tr>\n",
              "      <th>2</th>\n",
              "      <td>1</td>\n",
              "      <td>1</td>\n",
              "      <td>1</td>\n",
              "      <td>1</td>\n",
              "    </tr>\n",
              "    <tr>\n",
              "      <th>3</th>\n",
              "      <td>3</td>\n",
              "      <td>3</td>\n",
              "      <td>3</td>\n",
              "      <td>3</td>\n",
              "    </tr>\n",
              "    <tr>\n",
              "      <th>4</th>\n",
              "      <td>1</td>\n",
              "      <td>3</td>\n",
              "      <td>3</td>\n",
              "      <td>2</td>\n",
              "    </tr>\n",
              "  </tbody>\n",
              "</table>\n",
              "</div>"
            ],
            "text/plain": [
              "   DecisionTree  naiveBayes  RandomForest  SVM\n",
              "0             1           1             1    1\n",
              "1             1           1             1    1\n",
              "2             1           1             1    1\n",
              "3             3           3             3    3\n",
              "4             1           3             3    2"
            ]
          },
          "metadata": {
            "tags": []
          },
          "execution_count": 34
        }
      ]
    },
    {
      "cell_type": "code",
      "metadata": {
        "id": "4PRZ3OEM4nc2",
        "outputId": "e5df0b7a-e0d5-411b-8a22-5671c221e302",
        "colab": {
          "base_uri": "https://localhost:8080/",
          "height": 204
        }
      },
      "source": [
        "taskb_df['res'] = taskb_df.mode(axis=1)[0].astype(int)\n",
        "taskb_df.head()"
      ],
      "execution_count": null,
      "outputs": [
        {
          "output_type": "execute_result",
          "data": {
            "text/html": [
              "<div>\n",
              "<style scoped>\n",
              "    .dataframe tbody tr th:only-of-type {\n",
              "        vertical-align: middle;\n",
              "    }\n",
              "\n",
              "    .dataframe tbody tr th {\n",
              "        vertical-align: top;\n",
              "    }\n",
              "\n",
              "    .dataframe thead th {\n",
              "        text-align: right;\n",
              "    }\n",
              "</style>\n",
              "<table border=\"1\" class=\"dataframe\">\n",
              "  <thead>\n",
              "    <tr style=\"text-align: right;\">\n",
              "      <th></th>\n",
              "      <th>DecisionTree</th>\n",
              "      <th>naiveBayes</th>\n",
              "      <th>RandomForest</th>\n",
              "      <th>SVM</th>\n",
              "      <th>res</th>\n",
              "    </tr>\n",
              "  </thead>\n",
              "  <tbody>\n",
              "    <tr>\n",
              "      <th>0</th>\n",
              "      <td>1</td>\n",
              "      <td>1</td>\n",
              "      <td>1</td>\n",
              "      <td>1</td>\n",
              "      <td>1</td>\n",
              "    </tr>\n",
              "    <tr>\n",
              "      <th>1</th>\n",
              "      <td>1</td>\n",
              "      <td>1</td>\n",
              "      <td>1</td>\n",
              "      <td>1</td>\n",
              "      <td>1</td>\n",
              "    </tr>\n",
              "    <tr>\n",
              "      <th>2</th>\n",
              "      <td>1</td>\n",
              "      <td>1</td>\n",
              "      <td>1</td>\n",
              "      <td>1</td>\n",
              "      <td>1</td>\n",
              "    </tr>\n",
              "    <tr>\n",
              "      <th>3</th>\n",
              "      <td>3</td>\n",
              "      <td>3</td>\n",
              "      <td>3</td>\n",
              "      <td>3</td>\n",
              "      <td>3</td>\n",
              "    </tr>\n",
              "    <tr>\n",
              "      <th>4</th>\n",
              "      <td>1</td>\n",
              "      <td>3</td>\n",
              "      <td>3</td>\n",
              "      <td>2</td>\n",
              "      <td>3</td>\n",
              "    </tr>\n",
              "  </tbody>\n",
              "</table>\n",
              "</div>"
            ],
            "text/plain": [
              "   DecisionTree  naiveBayes  RandomForest  SVM  res\n",
              "0             1           1             1    1    1\n",
              "1             1           1             1    1    1\n",
              "2             1           1             1    1    1\n",
              "3             3           3             3    3    3\n",
              "4             1           3             3    2    3"
            ]
          },
          "metadata": {
            "tags": []
          },
          "execution_count": 35
        }
      ]
    },
    {
      "cell_type": "code",
      "metadata": {
        "id": "_EqsCRkmNwE_",
        "outputId": "2cdd6f08-644d-46d1-fc6b-048b72b3ff4a",
        "colab": {
          "base_uri": "https://localhost:8080/",
          "height": 204
        }
      },
      "source": [
        "from sklearn.metrics import classification_report\n",
        "print(classification_report(Y_test , taskb_df['res']))"
      ],
      "execution_count": null,
      "outputs": [
        {
          "output_type": "stream",
          "text": [
            "              precision    recall  f1-score   support\n",
            "\n",
            "           0       0.67      0.08      0.14        25\n",
            "           1       0.81      0.96      0.88       414\n",
            "           2       0.53      0.12      0.20        82\n",
            "           3       0.82      0.84      0.83       293\n",
            "\n",
            "    accuracy                           0.81       814\n",
            "   macro avg       0.71      0.50      0.51       814\n",
            "weighted avg       0.78      0.81      0.77       814\n",
            "\n"
          ],
          "name": "stdout"
        }
      ]
    },
    {
      "cell_type": "code",
      "metadata": {
        "id": "lbl7mwaPxwJL"
      },
      "source": [
        "classes = ['HATE','NONE','OFFN','PRFN']"
      ],
      "execution_count": null,
      "outputs": []
    },
    {
      "cell_type": "code",
      "metadata": {
        "id": "WJtrLKj1xahG",
        "outputId": "71c311c5-3e0d-4bc6-f3d3-578ec062f36c",
        "colab": {
          "base_uri": "https://localhost:8080/",
          "height": 54
        }
      },
      "source": [
        "import numpy as np\n",
        "pred_class = []\n",
        "for item in taskb_df['res']:\n",
        "  pred_class.append(classes[item])\n",
        "print(pred_class)"
      ],
      "execution_count": null,
      "outputs": [
        {
          "output_type": "stream",
          "text": [
            "['NONE', 'NONE', 'NONE', 'PRFN', 'PRFN', 'NONE', 'PRFN', 'PRFN', 'NONE', 'PRFN', 'PRFN', 'PRFN', 'PRFN', 'NONE', 'PRFN', 'OFFN', 'NONE', 'PRFN', 'NONE', 'PRFN', 'NONE', 'PRFN', 'NONE', 'NONE', 'PRFN', 'NONE', 'PRFN', 'PRFN', 'NONE', 'NONE', 'NONE', 'NONE', 'NONE', 'NONE', 'NONE', 'NONE', 'PRFN', 'PRFN', 'PRFN', 'NONE', 'PRFN', 'PRFN', 'PRFN', 'PRFN', 'NONE', 'NONE', 'NONE', 'NONE', 'NONE', 'NONE', 'PRFN', 'NONE', 'NONE', 'PRFN', 'PRFN', 'NONE', 'NONE', 'NONE', 'NONE', 'NONE', 'NONE', 'PRFN', 'PRFN', 'NONE', 'NONE', 'NONE', 'NONE', 'PRFN', 'PRFN', 'NONE', 'NONE', 'NONE', 'NONE', 'NONE', 'NONE', 'NONE', 'PRFN', 'NONE', 'NONE', 'PRFN', 'PRFN', 'NONE', 'NONE', 'NONE', 'NONE', 'NONE', 'NONE', 'PRFN', 'NONE', 'PRFN', 'NONE', 'NONE', 'PRFN', 'HATE', 'NONE', 'NONE', 'PRFN', 'PRFN', 'NONE', 'NONE', 'PRFN', 'NONE', 'NONE', 'PRFN', 'PRFN', 'NONE', 'PRFN', 'NONE', 'NONE', 'PRFN', 'PRFN', 'NONE', 'NONE', 'NONE', 'PRFN', 'PRFN', 'NONE', 'NONE', 'NONE', 'PRFN', 'NONE', 'PRFN', 'PRFN', 'PRFN', 'NONE', 'NONE', 'NONE', 'NONE', 'PRFN', 'PRFN', 'PRFN', 'PRFN', 'PRFN', 'PRFN', 'PRFN', 'PRFN', 'PRFN', 'NONE', 'PRFN', 'NONE', 'NONE', 'NONE', 'NONE', 'NONE', 'PRFN', 'NONE', 'OFFN', 'NONE', 'PRFN', 'PRFN', 'NONE', 'NONE', 'NONE', 'PRFN', 'NONE', 'NONE', 'NONE', 'PRFN', 'NONE', 'PRFN', 'PRFN', 'NONE', 'NONE', 'OFFN', 'PRFN', 'NONE', 'NONE', 'PRFN', 'NONE', 'OFFN', 'NONE', 'NONE', 'PRFN', 'NONE', 'PRFN', 'PRFN', 'NONE', 'NONE', 'NONE', 'NONE', 'PRFN', 'NONE', 'PRFN', 'NONE', 'NONE', 'NONE', 'NONE', 'PRFN', 'NONE', 'PRFN', 'NONE', 'NONE', 'PRFN', 'NONE', 'NONE', 'NONE', 'NONE', 'PRFN', 'PRFN', 'NONE', 'NONE', 'PRFN', 'PRFN', 'PRFN', 'NONE', 'NONE', 'NONE', 'PRFN', 'PRFN', 'NONE', 'NONE', 'PRFN', 'PRFN', 'NONE', 'NONE', 'NONE', 'PRFN', 'NONE', 'NONE', 'NONE', 'NONE', 'PRFN', 'PRFN', 'NONE', 'PRFN', 'NONE', 'PRFN', 'NONE', 'NONE', 'PRFN', 'PRFN', 'NONE', 'PRFN', 'NONE', 'PRFN', 'PRFN', 'NONE', 'NONE', 'PRFN', 'NONE', 'PRFN', 'NONE', 'NONE', 'NONE', 'NONE', 'PRFN', 'NONE', 'NONE', 'NONE', 'NONE', 'NONE', 'NONE', 'NONE', 'PRFN', 'PRFN', 'PRFN', 'PRFN', 'NONE', 'NONE', 'PRFN', 'PRFN', 'NONE', 'NONE', 'PRFN', 'NONE', 'NONE', 'NONE', 'NONE', 'PRFN', 'NONE', 'NONE', 'PRFN', 'PRFN', 'NONE', 'PRFN', 'PRFN', 'NONE', 'NONE', 'PRFN', 'PRFN', 'NONE', 'PRFN', 'NONE', 'NONE', 'NONE', 'PRFN', 'NONE', 'NONE', 'NONE', 'NONE', 'NONE', 'NONE', 'OFFN', 'PRFN', 'PRFN', 'PRFN', 'NONE', 'NONE', 'PRFN', 'NONE', 'NONE', 'NONE', 'NONE', 'NONE', 'NONE', 'PRFN', 'PRFN', 'PRFN', 'NONE', 'NONE', 'NONE', 'PRFN', 'NONE', 'PRFN', 'NONE', 'PRFN', 'NONE', 'PRFN', 'PRFN', 'NONE', 'PRFN', 'NONE', 'NONE', 'NONE', 'NONE', 'HATE', 'PRFN', 'NONE', 'PRFN', 'NONE', 'NONE', 'PRFN', 'NONE', 'NONE', 'NONE', 'NONE', 'NONE', 'PRFN', 'NONE', 'NONE', 'PRFN', 'NONE', 'NONE', 'NONE', 'PRFN', 'NONE', 'PRFN', 'NONE', 'NONE', 'NONE', 'PRFN', 'PRFN', 'OFFN', 'NONE', 'NONE', 'PRFN', 'NONE', 'NONE', 'NONE', 'NONE', 'PRFN', 'NONE', 'PRFN', 'NONE', 'PRFN', 'NONE', 'NONE', 'PRFN', 'PRFN', 'NONE', 'NONE', 'PRFN', 'NONE', 'NONE', 'NONE', 'NONE', 'PRFN', 'NONE', 'NONE', 'NONE', 'PRFN', 'NONE', 'NONE', 'PRFN', 'NONE', 'NONE', 'PRFN', 'NONE', 'PRFN', 'PRFN', 'PRFN', 'NONE', 'PRFN', 'NONE', 'NONE', 'NONE', 'NONE', 'NONE', 'NONE', 'PRFN', 'NONE', 'PRFN', 'PRFN', 'PRFN', 'PRFN', 'NONE', 'PRFN', 'PRFN', 'PRFN', 'PRFN', 'PRFN', 'NONE', 'PRFN', 'NONE', 'NONE', 'NONE', 'NONE', 'PRFN', 'PRFN', 'NONE', 'PRFN', 'NONE', 'PRFN', 'OFFN', 'NONE', 'NONE', 'NONE', 'NONE', 'PRFN', 'NONE', 'NONE', 'PRFN', 'NONE', 'NONE', 'PRFN', 'NONE', 'PRFN', 'NONE', 'NONE', 'PRFN', 'NONE', 'NONE', 'NONE', 'PRFN', 'PRFN', 'NONE', 'PRFN', 'NONE', 'NONE', 'NONE', 'PRFN', 'NONE', 'PRFN', 'NONE', 'NONE', 'NONE', 'NONE', 'PRFN', 'NONE', 'NONE', 'NONE', 'PRFN', 'NONE', 'NONE', 'NONE', 'NONE', 'NONE', 'PRFN', 'NONE', 'NONE', 'NONE', 'NONE', 'PRFN', 'NONE', 'PRFN', 'NONE', 'PRFN', 'PRFN', 'NONE', 'NONE', 'NONE', 'NONE', 'NONE', 'NONE', 'PRFN', 'NONE', 'OFFN', 'PRFN', 'NONE', 'NONE', 'NONE', 'PRFN', 'NONE', 'PRFN', 'NONE', 'PRFN', 'NONE', 'PRFN', 'NONE', 'NONE', 'PRFN', 'NONE', 'NONE', 'PRFN', 'NONE', 'NONE', 'NONE', 'NONE', 'NONE', 'NONE', 'NONE', 'OFFN', 'NONE', 'PRFN', 'NONE', 'PRFN', 'NONE', 'PRFN', 'NONE', 'NONE', 'NONE', 'NONE', 'PRFN', 'PRFN', 'NONE', 'PRFN', 'NONE', 'NONE', 'NONE', 'NONE', 'PRFN', 'NONE', 'PRFN', 'PRFN', 'PRFN', 'NONE', 'NONE', 'NONE', 'PRFN', 'PRFN', 'PRFN', 'PRFN', 'NONE', 'NONE', 'NONE', 'NONE', 'NONE', 'NONE', 'NONE', 'PRFN', 'NONE', 'NONE', 'NONE', 'NONE', 'OFFN', 'NONE', 'NONE', 'NONE', 'NONE', 'NONE', 'OFFN', 'PRFN', 'OFFN', 'NONE', 'PRFN', 'NONE', 'PRFN', 'NONE', 'NONE', 'NONE', 'NONE', 'NONE', 'PRFN', 'NONE', 'NONE', 'NONE', 'NONE', 'HATE', 'NONE', 'NONE', 'PRFN', 'PRFN', 'NONE', 'PRFN', 'PRFN', 'PRFN', 'NONE', 'PRFN', 'PRFN', 'NONE', 'NONE', 'PRFN', 'PRFN', 'NONE', 'PRFN', 'NONE', 'PRFN', 'NONE', 'NONE', 'NONE', 'PRFN', 'NONE', 'NONE', 'NONE', 'NONE', 'NONE', 'NONE', 'PRFN', 'NONE', 'NONE', 'NONE', 'NONE', 'NONE', 'NONE', 'PRFN', 'PRFN', 'PRFN', 'NONE', 'NONE', 'NONE', 'NONE', 'NONE', 'NONE', 'PRFN', 'NONE', 'NONE', 'NONE', 'PRFN', 'NONE', 'NONE', 'NONE', 'NONE', 'NONE', 'NONE', 'PRFN', 'PRFN', 'PRFN', 'PRFN', 'NONE', 'NONE', 'PRFN', 'PRFN', 'NONE', 'NONE', 'PRFN', 'NONE', 'NONE', 'PRFN', 'PRFN', 'NONE', 'NONE', 'NONE', 'NONE', 'PRFN', 'NONE', 'NONE', 'NONE', 'NONE', 'NONE', 'NONE', 'PRFN', 'PRFN', 'NONE', 'NONE', 'PRFN', 'NONE', 'NONE', 'NONE', 'NONE', 'NONE', 'NONE', 'PRFN', 'NONE', 'NONE', 'PRFN', 'NONE', 'NONE', 'NONE', 'PRFN', 'OFFN', 'NONE', 'NONE', 'PRFN', 'NONE', 'NONE', 'OFFN', 'NONE', 'PRFN', 'PRFN', 'NONE', 'PRFN', 'NONE', 'NONE', 'NONE', 'PRFN', 'PRFN', 'PRFN', 'NONE', 'NONE', 'NONE', 'NONE', 'PRFN', 'NONE', 'PRFN', 'PRFN', 'PRFN', 'PRFN', 'NONE', 'NONE', 'NONE', 'PRFN', 'PRFN', 'PRFN', 'NONE', 'NONE', 'PRFN', 'NONE', 'NONE', 'PRFN', 'NONE', 'NONE', 'PRFN', 'PRFN', 'PRFN', 'OFFN', 'NONE', 'PRFN', 'NONE', 'PRFN', 'PRFN', 'PRFN', 'NONE', 'NONE', 'PRFN', 'NONE', 'PRFN', 'NONE', 'PRFN', 'PRFN', 'NONE', 'PRFN', 'PRFN', 'NONE', 'NONE', 'PRFN', 'PRFN', 'PRFN', 'PRFN', 'PRFN', 'PRFN', 'PRFN', 'NONE', 'NONE', 'NONE', 'NONE', 'NONE', 'OFFN', 'PRFN', 'NONE', 'NONE', 'NONE', 'NONE', 'PRFN', 'PRFN', 'PRFN', 'NONE', 'NONE', 'NONE', 'NONE', 'NONE', 'NONE', 'PRFN', 'PRFN', 'PRFN', 'NONE', 'PRFN', 'NONE', 'NONE', 'PRFN', 'NONE', 'NONE', 'PRFN', 'NONE', 'NONE', 'PRFN', 'NONE', 'OFFN', 'PRFN', 'PRFN', 'PRFN', 'OFFN', 'PRFN', 'NONE', 'NONE', 'NONE', 'NONE', 'NONE', 'NONE', 'NONE', 'PRFN', 'PRFN', 'OFFN', 'PRFN', 'PRFN', 'NONE', 'PRFN', 'NONE', 'PRFN', 'NONE', 'NONE', 'NONE', 'NONE', 'NONE', 'NONE']\n"
          ],
          "name": "stdout"
        }
      ]
    },
    {
      "cell_type": "code",
      "metadata": {
        "id": "UXOBxglVxDt1",
        "outputId": "82761a41-3653-4a9f-bee6-bed15f7a9fc3",
        "colab": {
          "base_uri": "https://localhost:8080/",
          "height": 255
        }
      },
      "source": [
        "pred_data = pd.DataFrame()\n",
        "\n",
        "pred_data['tweet_id'] = test_data['tweet_id']\n",
        "pred_data['task2'] = pred_class\n",
        "pred_data['ID'] = test_data['ID']\n",
        "\n",
        "compression_opts = dict(method='zip',archive_name='submission_EN_B.csv')\n",
        "pred_data.to_csv('submission-ens-b.zip', index=False, compression=compression_opts)\n",
        "print(pred_data)"
      ],
      "execution_count": null,
      "outputs": [
        {
          "output_type": "stream",
          "text": [
            "                tweet_id task2                  ID\n",
            "0    1130081762154090497  NONE  hasoc_2020_en_2713\n",
            "1    1130048316807491584  NONE  hasoc_2020_en_3874\n",
            "2    1123657766143504386  NONE   hasoc_2020_en_281\n",
            "3    1126782963042013186  PRFN  hasoc_2020_en_2026\n",
            "4    1130159113529434113  PRFN  hasoc_2020_en_4023\n",
            "..                   ...   ...                 ...\n",
            "809  1127061607433900032  NONE  hasoc_2020_en_1212\n",
            "810  1123685826074951681  NONE  hasoc_2020_en_3435\n",
            "811  1126882552587927552  NONE  hasoc_2020_en_3987\n",
            "812  1130294488859996160  NONE  hasoc_2020_en_1176\n",
            "813  1130111650780991493  NONE  hasoc_2020_en_1937\n",
            "\n",
            "[814 rows x 3 columns]\n"
          ],
          "name": "stdout"
        }
      ]
    }
  ]
}